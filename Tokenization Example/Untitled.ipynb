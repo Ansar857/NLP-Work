{
 "cells": [
  {
   "cell_type": "code",
   "execution_count": 26,
   "id": "ba68fa10-5e13-466d-a4bd-385d8c6672ac",
   "metadata": {},
   "outputs": [],
   "source": [
    "corpus = \"\"\"Hi i am Ansar! i am working at Axiom. \n",
    "        i am becoming a aws serverless developer. \"\"\""
   ]
  },
  {
   "cell_type": "code",
   "execution_count": 27,
   "id": "48432cd2-830b-4c16-a72e-66fea9b23ac1",
   "metadata": {},
   "outputs": [
    {
     "name": "stdout",
     "output_type": "stream",
     "text": [
      "Hi i am Ansar! i am working at Axiom. \n",
      "        i am becoming a aws serverless developer. \n"
     ]
    }
   ],
   "source": [
    "print(corpus)"
   ]
  },
  {
   "cell_type": "code",
   "execution_count": 30,
   "id": "bf1280d3-2640-4e6b-8cca-00efa7a8507d",
   "metadata": {},
   "outputs": [],
   "source": [
    "from nltk.tokenize import sent_tokenize\n",
    "from nltk.tokenize import wordpunct_tokenize"
   ]
  },
  {
   "cell_type": "code",
   "execution_count": 31,
   "id": "89f245eb-6164-4995-850a-fab346c81007",
   "metadata": {},
   "outputs": [],
   "source": [
    "document = sent_tokenize(corpus)"
   ]
  },
  {
   "cell_type": "code",
   "execution_count": 33,
   "id": "2d0aab10-a515-429c-8543-754b2544c360",
   "metadata": {},
   "outputs": [
    {
     "name": "stdout",
     "output_type": "stream",
     "text": [
      "['Hi', 'i', 'am', 'Ansar', '!']\n",
      "['i', 'am', 'working', 'at', 'Axiom', '.']\n",
      "['i', 'am', 'becoming', 'a', 'aws', 'serverless', 'developer', '.']\n"
     ]
    }
   ],
   "source": [
    "for sentence in document:\n",
    "    token = wordpunct_tokenize(sentence)\n",
    "    print(token)"
   ]
  },
  {
   "cell_type": "code",
   "execution_count": null,
   "id": "82bad8d6-ae7d-4e95-964a-28fb22adab35",
   "metadata": {},
   "outputs": [],
   "source": []
  }
 ],
 "metadata": {
  "kernelspec": {
   "display_name": "Python 3 (ipykernel)",
   "language": "python",
   "name": "python3"
  },
  "language_info": {
   "codemirror_mode": {
    "name": "ipython",
    "version": 3
   },
   "file_extension": ".py",
   "mimetype": "text/x-python",
   "name": "python",
   "nbconvert_exporter": "python",
   "pygments_lexer": "ipython3",
   "version": "3.12.3"
  }
 },
 "nbformat": 4,
 "nbformat_minor": 5
}
